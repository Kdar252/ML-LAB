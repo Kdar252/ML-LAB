{
 "cells": [
  {
   "cell_type": "code",
   "execution_count": 1,
   "id": "1518e66b",
   "metadata": {},
   "outputs": [
    {
     "name": "stdout",
     "output_type": "stream",
     "text": [
      "     sky airtemp humidity    wind water forecast enjoysport\n",
      "0  sunny    warm   normal  strong  warm     same        yes\n",
      "1  sunny    warm     high  strong  warm     same        yes\n",
      "2  rainy    cold     high  strong  warm   change         no\n",
      "3  sunny    warm     high  strong  cool   change        yes\n",
      "4  rainy    cold     high  strong  cool   change         no\n",
      "5  sunny    warm   normal  strong  cool     same        yes\n",
      "([{'hypothesis': ['?', '?', 'normal', '?', '?'], 'outcome': 'yes'}, {'hypothesis': ['sunny', 'high', '?', '?', '?'], 'outcome': 'yes'}, {'hypothesis': ['rainy', '?', 'ok', '?', '?'], 'outcome': 'no'}, {'hypothesis': ['rainy', 'warm', 'high', '?', '?'], 'outcome': 'yes'}, {'hypothesis': ['?', 'cold', '?', 'cool', '?'], 'outcome': 'no'}, {'hypothesis': ['?', '?', '?', 'cool', '?'], 'outcome': 'yes'}], [])\n"
     ]
    }
   ],
   "source": [
    "import pandas as pd\n",
    "data = pd.read_csv(\"weather_dataset.csv\")\n",
    "data.head(10)\n",
    "print (data);\n",
    "\n",
    "def package_hypothesis(hypothesis, outcome):\n",
    "    ln = dict()\n",
    "    ln['hypothesis'] = hypothesis\n",
    "    ln['outcome'] = outcome\n",
    "    return ln\n",
    "\n",
    "#Test hypothesises\n",
    "h1 = package_hypothesis([\"?\",\"?\",\"normal\",\"?\",\"?\"],\"yes\")\n",
    "h2 = package_hypothesis([\"sunny\",\"high\",\"?\",\"?\",\"?\"],\"yes\")\n",
    "h3 = package_hypothesis([\"rainy\",\"?\",\"ok\",\"?\",\"?\"],\"no\")\n",
    "h4 = package_hypothesis([\"rainy\",\"warm\",\"high\",\"?\",\"?\"],\"yes\")\n",
    "h5 = package_hypothesis([\"?\",\"cold\",\"?\",\"cool\",\"?\"],\"no\")\n",
    "h6 = package_hypothesis([\"?\",\"?\",\"?\",\"cool\",\"?\"],\"yes\")\n",
    "\n",
    "def compare(values, hypo):\n",
    "    for i in range(len(values)):\n",
    "        if(hypo[i] != \"?\"):\n",
    "            if(values[i] != hypo[i]):\n",
    "                return False\n",
    "    return True\n",
    "\n",
    "def list_then_eliminate(data, *hypothesis):\n",
    "    consistent_space = []\n",
    "    inconsistent_space = []\n",
    "    \n",
    "    for hyp in hypothesis:\n",
    "        state = True\n",
    "        for i in range(data.shape[0]):          \n",
    "            #data.shape[0] : all rows\n",
    "            if(hyp['outcome'] == data.iloc[i,-1]):\n",
    "                if(not compare(hypo = hyp['hypothesis'], values = list(data.iloc[i,:-1])[:-1])):\n",
    "                    inconsistent_space.append(hyp)\n",
    "                    state = False\n",
    "                    break\n",
    "        if(state):\n",
    "            consistent_space.append(hyp)\n",
    "            \n",
    "    return (inconsistent_space, consistent_space)\n",
    "\n",
    "print (list_then_eliminate(data, h1,h2,h3,h4,h5,h6));"
   ]
  },
  {
   "cell_type": "code",
   "execution_count": null,
   "id": "71cd8497",
   "metadata": {},
   "outputs": [],
   "source": []
  }
 ],
 "metadata": {
  "kernelspec": {
   "display_name": "Python 3 (ipykernel)",
   "language": "python",
   "name": "python3"
  },
  "language_info": {
   "codemirror_mode": {
    "name": "ipython",
    "version": 3
   },
   "file_extension": ".py",
   "mimetype": "text/x-python",
   "name": "python",
   "nbconvert_exporter": "python",
   "pygments_lexer": "ipython3",
   "version": "3.9.13"
  }
 },
 "nbformat": 4,
 "nbformat_minor": 5
}
