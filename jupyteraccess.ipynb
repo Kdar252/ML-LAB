{
 "cells": [
  {
   "cell_type": "code",
   "execution_count": 5,
   "id": "b7f065f1",
   "metadata": {},
   "outputs": [
    {
     "name": "stdout",
     "output_type": "stream",
     "text": [
      "Collecting gitpython\n",
      "  Downloading GitPython-3.1.31-py3-none-any.whl (184 kB)\n",
      "     -------------------------------------- 184.3/184.3 kB 3.7 MB/s eta 0:00:00\n",
      "Collecting gitdb<5,>=4.0.1\n",
      "  Downloading gitdb-4.0.10-py3-none-any.whl (62 kB)\n",
      "     ---------------------------------------- 62.7/62.7 kB 3.3 MB/s eta 0:00:00\n",
      "Collecting smmap<6,>=3.0.1\n",
      "  Downloading smmap-5.0.0-py3-none-any.whl (24 kB)\n",
      "Installing collected packages: smmap, gitdb, gitpython\n",
      "Successfully installed gitdb-4.0.10 gitpython-3.1.31 smmap-5.0.0\n"
     ]
    },
    {
     "name": "stderr",
     "output_type": "stream",
     "text": [
      "WARNING: Ignoring invalid distribution -orch (c:\\users\\kedar\\anaconda3\\lib\\site-packages)\n",
      "WARNING: Ignoring invalid distribution -orch (c:\\users\\kedar\\anaconda3\\lib\\site-packages)\n",
      "WARNING: Ignoring invalid distribution -orch (c:\\users\\kedar\\anaconda3\\lib\\site-packages)\n",
      "WARNING: Ignoring invalid distribution -orch (c:\\users\\kedar\\anaconda3\\lib\\site-packages)\n",
      "WARNING: Ignoring invalid distribution -orch (c:\\users\\kedar\\anaconda3\\lib\\site-packages)\n",
      "WARNING: Ignoring invalid distribution -orch (c:\\users\\kedar\\anaconda3\\lib\\site-packages)\n",
      "WARNING: Ignoring invalid distribution -orch (c:\\users\\kedar\\anaconda3\\lib\\site-packages)\n",
      "WARNING: Ignoring invalid distribution -orch (c:\\users\\kedar\\anaconda3\\lib\\site-packages)\n",
      "WARNING: Ignoring invalid distribution -orch (c:\\users\\kedar\\anaconda3\\lib\\site-packages)\n"
     ]
    }
   ],
   "source": [
    "!pip install gitpython"
   ]
  },
  {
   "cell_type": "code",
   "execution_count": 7,
   "id": "1dfe6eb2",
   "metadata": {},
   "outputs": [
    {
     "data": {
      "text/plain": [
       "<git.repo.base.Repo 'C:\\\\Users\\\\kedar\\\\Desktop\\\\gitrepo\\\\.git'>"
      ]
     },
     "execution_count": 7,
     "metadata": {},
     "output_type": "execute_result"
    }
   ],
   "source": [
    "import os \n",
    "import git\n",
    "repo_url = 'https://github.com/Kdar252/ML-LAB'\n",
    "repo_dir = 'C:/Users/kedar/Desktop/gitrepo'\n",
    "git.Repo.clone_from(repo_url, repo_dir)"
   ]
  },
  {
   "cell_type": "code",
   "execution_count": 9,
   "id": "8a8a5983",
   "metadata": {},
   "outputs": [
    {
     "name": "stdout",
     "output_type": "stream",
     "text": [
      "\n",
      "#  EM algorithm\n",
      "\n",
      "import matplotlib.pyplot as plt\n",
      "from sklearn import datasets\n",
      "from sklearn.cluster import KMeans\n",
      "import sklearn.metrics as sm\n",
      "import pandas as pd\n",
      "import numpy as np\n",
      "\n",
      "iris = datasets.load_iris()\n",
      "\n",
      "X = pd.DataFrame(iris.data)\n",
      "X.columns = ['Sepal_Length','Sepal_Width','Petal_Length','Petal_Width']\n",
      "\n",
      "y = pd.DataFrame(iris.target)\n",
      "y.columns = ['Targets']\n",
      "\n",
      "model = KMeans(n_clusters=3)\n",
      "model.fit(X)\n",
      "\n",
      "\n",
      "plt.figure(figsize=(14,7))\n",
      "\n",
      "colormap = np.array(['red', 'lime', 'black'])\n",
      "\n",
      "# Plot the Original Classifications\n",
      "plt.subplot(1, 2, 1)\n",
      "plt.scatter(X.Petal_Length, X.Petal_Width, c=colormap[y.Targets], s=40)\n",
      "plt.title('Real Classification')\n",
      "plt.xlabel('Petal Length')\n",
      "plt.ylabel('Petal Width')\n",
      "\n",
      "\n",
      "# Plot the Models Classifications\n",
      "plt.subplot(1, 2, 2)\n",
      "plt.scatter(X.Petal_Length, X.Petal_Width, c=colormap[model.labels_], s=40)\n",
      "plt.title('K Mean Classification')\n",
      "plt.xlabel('Petal Length')\n",
      "plt.ylabel('Petal Width')\n",
      "print('The accuracy score of K-Mean: ',sm.accuracy_score(y, model.labels_))\n",
      "print('The Confusion matrixof K-Mean: ',sm.confusion_matrix(y, model.labels_))\n",
      "\n",
      "\n",
      "from sklearn import preprocessing\n",
      "scaler = preprocessing.StandardScaler()\n",
      "scaler.fit(X)\n",
      "xsa = scaler.transform(X)\n",
      "xs = pd.DataFrame(xsa, columns = X.columns)\n",
      "#xs.sample(5)\n",
      "\n",
      "from sklearn.mixture import GaussianMixture\n",
      "gmm = GaussianMixture(n_components=3)\n",
      "gmm.fit(xs)\n",
      "\n",
      "y_gmm = gmm.predict(xs)\n",
      "#y_cluster_gmm\n",
      "\n",
      "plt.subplot(2, 2, 3)\n",
      "plt.scatter(X.Petal_Length, X.Petal_Width, c=colormap[y_gmm], s=40)\n",
      "plt.title('GMM Classification')\n",
      "plt.xlabel('Petal Length')\n",
      "plt.ylabel('Petal Width')\n",
      "\n",
      "print('The accuracy score of EM: ',sm.accuracy_score(y, y_gmm))\n",
      "print('The Confusion matrix of EM: ',sm.confusion_matrix(y, y_gmm))\n"
     ]
    }
   ],
   "source": [
    "file_path = os.path.join(repo_dir, 'EM algo.txt')\n",
    "\n",
    "with open(file_path, 'r') as file:\n",
    "    contents = file.read()\n",
    "\n",
    "print(contents)"
   ]
  },
  {
   "cell_type": "code",
   "execution_count": null,
   "id": "81cb5b94",
   "metadata": {},
   "outputs": [],
   "source": []
  }
 ],
 "metadata": {
  "kernelspec": {
   "display_name": "Python 3 (ipykernel)",
   "language": "python",
   "name": "python3"
  },
  "language_info": {
   "codemirror_mode": {
    "name": "ipython",
    "version": 3
   },
   "file_extension": ".py",
   "mimetype": "text/x-python",
   "name": "python",
   "nbconvert_exporter": "python",
   "pygments_lexer": "ipython3",
   "version": "3.10.9"
  }
 },
 "nbformat": 4,
 "nbformat_minor": 5
}
